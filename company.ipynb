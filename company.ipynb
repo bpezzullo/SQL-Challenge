{
 "cells": [
  {
   "cell_type": "code",
   "execution_count": 1,
   "metadata": {},
   "outputs": [
    {
     "data": {
      "text/plain": [
       "True"
      ]
     },
     "execution_count": 1,
     "metadata": {},
     "output_type": "execute_result"
    }
   ],
   "source": [
    "import pandas as pd\n",
    "import pandas.io.sql as sqlio\n",
    "import sqlalchemy as sql\n",
    "import psycopg2\n",
    "import matplotlib.pyplot as plt\n",
    "import numpy as np\n",
    "import os\n",
    "\n",
    "from dotenv import load_dotenv\n",
    "from matplotlib import colors\n",
    "from matplotlib.ticker import PercentFormatter\n",
    "   \n",
    "from sqlalchemy import create_engine\n",
    "\n",
    "# load up the variables from the .env file.\n",
    "load_dotenv()"
   ]
  },
  {
   "cell_type": "code",
   "execution_count": 2,
   "metadata": {},
   "outputs": [],
   "source": [
    "# set the variables for the pull from SQL.  username and password are in an .env file.  You will need those to make this run\n",
    "# on your machine.\n",
    "\n",
    "host = 'localhost'\n",
    "port = 5432\n",
    "dbname='Company'\n",
    "username = os.environ.get('USER_NAME')\n",
    "pwd = os.environ.get('PASSWORD')\n"
   ]
  },
  {
   "cell_type": "code",
   "execution_count": 3,
   "metadata": {},
   "outputs": [],
   "source": [
    "# Pull the salaries from the salary table.  I do not verify that there is an employee ID, but the foreign\n",
    "# keys should keep me straight.\n",
    "\n",
    "conn = psycopg2.connect(\"host='{}' port={} dbname='{}' user={} password={}\".format(host, port, dbname, username, pwd))\n",
    "sql = \"Select salary from salaries;\"\n",
    "dat = sqlio.read_sql_query(sql, conn)\n",
    "\n",
    "# close the connection\n",
    "conn = None"
   ]
  },
  {
   "cell_type": "code",
   "execution_count": 4,
   "metadata": {},
   "outputs": [
    {
     "data": {
      "text/html": [
       "<div>\n",
       "<style scoped>\n",
       "    .dataframe tbody tr th:only-of-type {\n",
       "        vertical-align: middle;\n",
       "    }\n",
       "\n",
       "    .dataframe tbody tr th {\n",
       "        vertical-align: top;\n",
       "    }\n",
       "\n",
       "    .dataframe thead th {\n",
       "        text-align: right;\n",
       "    }\n",
       "</style>\n",
       "<table border=\"1\" class=\"dataframe\">\n",
       "  <thead>\n",
       "    <tr style=\"text-align: right;\">\n",
       "      <th></th>\n",
       "      <th>salary</th>\n",
       "    </tr>\n",
       "  </thead>\n",
       "  <tbody>\n",
       "    <tr>\n",
       "      <th>0</th>\n",
       "      <td>$60,117.00</td>\n",
       "    </tr>\n",
       "    <tr>\n",
       "      <th>1</th>\n",
       "      <td>$65,828.00</td>\n",
       "    </tr>\n",
       "    <tr>\n",
       "      <th>2</th>\n",
       "      <td>$40,006.00</td>\n",
       "    </tr>\n",
       "    <tr>\n",
       "      <th>3</th>\n",
       "      <td>$40,054.00</td>\n",
       "    </tr>\n",
       "    <tr>\n",
       "      <th>4</th>\n",
       "      <td>$78,228.00</td>\n",
       "    </tr>\n",
       "    <tr>\n",
       "      <th>...</th>\n",
       "      <td>...</td>\n",
       "    </tr>\n",
       "    <tr>\n",
       "      <th>300019</th>\n",
       "      <td>$40,000.00</td>\n",
       "    </tr>\n",
       "    <tr>\n",
       "      <th>300020</th>\n",
       "      <td>$58,058.00</td>\n",
       "    </tr>\n",
       "    <tr>\n",
       "      <th>300021</th>\n",
       "      <td>$49,597.00</td>\n",
       "    </tr>\n",
       "    <tr>\n",
       "      <th>300022</th>\n",
       "      <td>$40,000.00</td>\n",
       "    </tr>\n",
       "    <tr>\n",
       "      <th>300023</th>\n",
       "      <td>$63,707.00</td>\n",
       "    </tr>\n",
       "  </tbody>\n",
       "</table>\n",
       "<p>300024 rows × 1 columns</p>\n",
       "</div>"
      ],
      "text/plain": [
       "            salary\n",
       "0       $60,117.00\n",
       "1       $65,828.00\n",
       "2       $40,006.00\n",
       "3       $40,054.00\n",
       "4       $78,228.00\n",
       "...            ...\n",
       "300019  $40,000.00\n",
       "300020  $58,058.00\n",
       "300021  $49,597.00\n",
       "300022  $40,000.00\n",
       "300023  $63,707.00\n",
       "\n",
       "[300024 rows x 1 columns]"
      ]
     },
     "execution_count": 4,
     "metadata": {},
     "output_type": "execute_result"
    }
   ],
   "source": [
    "# Put salaries into dataframe.\n",
    "salary_df = pd.DataFrame(dat)\n",
    "salary_df"
   ]
  },
  {
   "cell_type": "code",
   "execution_count": 12,
   "metadata": {},
   "outputs": [
    {
     "data": {
      "text/plain": [
       "salary    float64\n",
       "dtype: object"
      ]
     },
     "execution_count": 12,
     "metadata": {},
     "output_type": "execute_result"
    }
   ],
   "source": [
    "# Need to remove the $ and , so that we can conver to a float and make it easier to graph\n",
    "\n",
    "salary_df['salary']=salary_df['salary'].replace('[\\$,]', '', regex=True).astype(float)\n",
    "\n",
    "salary_df.dtypes"
   ]
  },
  {
   "cell_type": "code",
   "execution_count": 15,
   "metadata": {},
   "outputs": [
    {
     "data": {
      "text/plain": [
       "(array([1.13617e+05, 1.88640e+04, 1.92620e+04, 1.89190e+04, 1.81420e+04,\n",
       "        1.67180e+04, 1.52690e+04, 1.37730e+04, 1.20560e+04, 1.06200e+04,\n",
       "        9.11000e+03, 7.58300e+03, 6.49900e+03, 5.10900e+03, 3.95700e+03,\n",
       "        3.09700e+03, 2.37700e+03, 1.73500e+03, 1.20500e+03, 7.58000e+02,\n",
       "        5.24000e+02, 3.23000e+02, 2.13000e+02, 1.33000e+02, 6.80000e+01,\n",
       "        5.20000e+01, 2.30000e+01, 1.00000e+01, 4.00000e+00, 4.00000e+00]),\n",
       " array([ 40000.        ,  42983.06666667,  45966.13333333,  48949.2       ,\n",
       "         51932.26666667,  54915.33333333,  57898.4       ,  60881.46666667,\n",
       "         63864.53333333,  66847.6       ,  69830.66666667,  72813.73333333,\n",
       "         75796.8       ,  78779.86666667,  81762.93333333,  84746.        ,\n",
       "         87729.06666667,  90712.13333333,  93695.2       ,  96678.26666667,\n",
       "         99661.33333333, 102644.4       , 105627.46666667, 108610.53333333,\n",
       "        111593.6       , 114576.66666667, 117559.73333333, 120542.8       ,\n",
       "        123525.86666667, 126508.93333333, 129492.        ]),\n",
       " <BarContainer object of 30 artists>)"
      ]
     },
     "execution_count": 15,
     "metadata": {},
     "output_type": "execute_result"
    },
    {
     "data": {
      "image/png": "[encoded data removed]",
      "text/plain": [
       "<Figure size 432x288 with 1 Axes>"
      ]
     },
     "metadata": {
      "needs_background": "light"
     },
     "output_type": "display_data"
    }
   ],
   "source": [
    "# Seting to 30 bins\n",
    "n_bins= 30\n",
    "\n",
    "fig,ax = plt.subplots(1,1)\n",
    "\n",
    "# Provide the salaries\n",
    "y = salary_df['salary']\n",
    "\n",
    "# Label the graphs\n",
    "ax.set_title(\"Histogram of Salaries\")\n",
    "ax.set_xlabel(\"Bins of salarary ranges\")\n",
    "ax.set_ylabel(\"Count of Salaries\")\n",
    "\n",
    "# We can set the number of bins with the `bins` kwarg\n",
    "ax.hist(y, bins=n_bins)\n"
   ]
  },
  {
   "cell_type": "code",
   "execution_count": 26,
   "metadata": {},
   "outputs": [
    {
     "data": {
      "image/png": "[encoded data removed]",
      "text/plain": [
       "<Figure size 432x288 with 1 Axes>"
      ]
     },
     "metadata": {
      "needs_background": "light"
     },
     "output_type": "display_data"
    }
   ],
   "source": [
    "fig, axs = plt.subplots( tight_layout=True)\n",
    "\n",
    "\n",
    "# N is the count in each bin, bins is the lower-limit of the bin\n",
    "N, Nbins, patches = axs.hist(y, bins=n_bins)\n",
    "\n",
    "# We'll color code by height, but you could use any scalar\n",
    "fracs = N / N.max()\n",
    "\n",
    "# we need to normalize the data to 0..1 for the full range of the colormap\n",
    "norm = colors.Normalize(fracs.min(), fracs.max())\n",
    "\n",
    "# Now, we'll loop through our objects and set the color of each accordingly\n",
    "for thisfrac, thispatch in zip(fracs, patches):\n",
    "    color = plt.cm.viridis(norm(thisfrac))\n",
    "    thispatch.set_facecolor(color)\n",
    "    \n",
    "\n"
   ]
  },
  {
   "cell_type": "code",
   "execution_count": 46,
   "metadata": {},
   "outputs": [],
   "source": [
    "# Lets remove the lower salaries which are skewing the curve\n",
    "upper_salary_df = salary_df.loc[salary_df['salary'] >= 41000]"
   ]
  },
  {
   "cell_type": "code",
   "execution_count": 48,
   "metadata": {},
   "outputs": [
    {
     "data": {
      "text/plain": [
       "(array([1.0892e+04, 1.1116e+04, 1.1262e+04, 1.1413e+04, 1.1457e+04,\n",
       "        1.1237e+04, 1.0938e+04, 1.0534e+04, 1.0074e+04, 9.5050e+03,\n",
       "        8.9730e+03, 8.4840e+03, 7.8960e+03, 7.2920e+03, 6.8360e+03,\n",
       "        6.2100e+03, 5.7950e+03, 5.1620e+03, 4.6550e+03, 4.2620e+03,\n",
       "        3.8340e+03, 3.2870e+03, 2.9480e+03, 2.4320e+03, 2.1920e+03,\n",
       "        1.8500e+03, 1.5840e+03, 1.3400e+03, 1.1290e+03, 9.1200e+02,\n",
       "        7.4200e+02, 5.6000e+02, 4.3000e+02, 3.3800e+02, 2.6700e+02,\n",
       "        1.9900e+02, 1.6500e+02, 1.2200e+02, 8.9000e+01, 6.3000e+01,\n",
       "        4.3000e+01, 4.3000e+01, 2.3000e+01, 1.7000e+01, 1.2000e+01,\n",
       "        7.0000e+00, 5.0000e+00, 2.0000e+00, 3.0000e+00, 1.0000e+00]),\n",
       " array([ 41000.  ,  42769.84,  44539.68,  46309.52,  48079.36,  49849.2 ,\n",
       "         51619.04,  53388.88,  55158.72,  56928.56,  58698.4 ,  60468.24,\n",
       "         62238.08,  64007.92,  65777.76,  67547.6 ,  69317.44,  71087.28,\n",
       "         72857.12,  74626.96,  76396.8 ,  78166.64,  79936.48,  81706.32,\n",
       "         83476.16,  85246.  ,  87015.84,  88785.68,  90555.52,  92325.36,\n",
       "         94095.2 ,  95865.04,  97634.88,  99404.72, 101174.56, 102944.4 ,\n",
       "        104714.24, 106484.08, 108253.92, 110023.76, 111793.6 , 113563.44,\n",
       "        115333.28, 117103.12, 118872.96, 120642.8 , 122412.64, 124182.48,\n",
       "        125952.32, 127722.16, 129492.  ]),\n",
       " <BarContainer object of 50 artists>)"
      ]
     },
     "execution_count": 48,
     "metadata": {},
     "output_type": "execute_result"
    },
    {
     "data": {
      "image/png": "[encoded data removed]",
      "text/plain": [
       "<Figure size 432x288 with 1 Axes>"
      ]
     },
     "metadata": {
      "needs_background": "light"
     },
     "output_type": "display_data"
    }
   ],
   "source": [
    "# Seting to 50 bins\n",
    "n_bins= 50\n",
    "\n",
    "fig,ax = plt.subplots(1,1)\n",
    "\n",
    "# Provide the salaries\n",
    "y = upper_salary_df['salary']\n",
    "\n",
    "# Label the graphs\n",
    "ax.set_title(\"Histogram of Salaries above $41,000\")\n",
    "ax.set_xlabel(\"Bins of salarary ranges\")\n",
    "ax.set_ylabel(\"Count of Salaries\")\n",
    "\n",
    "# We can set the number of bins with the `bins` kwarg\n",
    "plt.hist(y, bins=n_bins)"
   ]
  },
  {
   "cell_type": "code",
   "execution_count": 49,
   "metadata": {},
   "outputs": [],
   "source": [
    "# Lets get the deprtments and the salaries in those departments.  I did see that an employee belongs to 2 departments.  I \n",
    "# didn't correct that.  Just used the data as is.  Here is the select statement.\n",
    "\n",
    "# Select distinct d.name, s.salary from departments d \n",
    "#     inner join dept_emp de on d.dept_no = de.dept_no \n",
    "#     inner join employees e on de.employee_no = e.employee_no \n",
    "#     inner join salaries s on e.employee_no = s.employee_no;\n",
    "\n",
    "conn = psycopg2.connect(\"host='{}' port={} dbname='{}' user={} password={}\".format(host, port, dbname, username, pwd))\n",
    "sql = \"Select distinct d.name, s.salary from departments d inner join dept_emp de on d.dept_no = de.dept_no inner join employees e on de.employee_no = e.employee_no inner join salaries s on e.employee_no = s.employee_no;\"\n",
    "dat = sqlio.read_sql_query(sql, conn)\n",
    "\n",
    "# close the connections\n",
    "conn = None"
   ]
  },
  {
   "cell_type": "code",
   "execution_count": 50,
   "metadata": {},
   "outputs": [
    {
     "data": {
      "text/html": [
       "<div>\n",
       "<style scoped>\n",
       "    .dataframe tbody tr th:only-of-type {\n",
       "        vertical-align: middle;\n",
       "    }\n",
       "\n",
       "    .dataframe tbody tr th {\n",
       "        vertical-align: top;\n",
       "    }\n",
       "\n",
       "    .dataframe thead th {\n",
       "        text-align: right;\n",
       "    }\n",
       "</style>\n",
       "<table border=\"1\" class=\"dataframe\">\n",
       "  <thead>\n",
       "    <tr style=\"text-align: right;\">\n",
       "      <th></th>\n",
       "      <th>name</th>\n",
       "      <th>salary</th>\n",
       "    </tr>\n",
       "  </thead>\n",
       "  <tbody>\n",
       "    <tr>\n",
       "      <th>0</th>\n",
       "      <td>Customer Service</td>\n",
       "      <td>$40,000.00</td>\n",
       "    </tr>\n",
       "    <tr>\n",
       "      <th>1</th>\n",
       "      <td>Customer Service</td>\n",
       "      <td>$40,001.00</td>\n",
       "    </tr>\n",
       "    <tr>\n",
       "      <th>2</th>\n",
       "      <td>Customer Service</td>\n",
       "      <td>$40,003.00</td>\n",
       "    </tr>\n",
       "    <tr>\n",
       "      <th>3</th>\n",
       "      <td>Customer Service</td>\n",
       "      <td>$40,006.00</td>\n",
       "    </tr>\n",
       "    <tr>\n",
       "      <th>4</th>\n",
       "      <td>Customer Service</td>\n",
       "      <td>$40,010.00</td>\n",
       "    </tr>\n",
       "    <tr>\n",
       "      <th>...</th>\n",
       "      <td>...</td>\n",
       "      <td>...</td>\n",
       "    </tr>\n",
       "    <tr>\n",
       "      <th>147868</th>\n",
       "      <td>Sales</td>\n",
       "      <td>$125,469.00</td>\n",
       "    </tr>\n",
       "    <tr>\n",
       "      <th>147869</th>\n",
       "      <td>Sales</td>\n",
       "      <td>$126,703.00</td>\n",
       "    </tr>\n",
       "    <tr>\n",
       "      <th>147870</th>\n",
       "      <td>Sales</td>\n",
       "      <td>$127,041.00</td>\n",
       "    </tr>\n",
       "    <tr>\n",
       "      <th>147871</th>\n",
       "      <td>Sales</td>\n",
       "      <td>$127,238.00</td>\n",
       "    </tr>\n",
       "    <tr>\n",
       "      <th>147872</th>\n",
       "      <td>Sales</td>\n",
       "      <td>$129,492.00</td>\n",
       "    </tr>\n",
       "  </tbody>\n",
       "</table>\n",
       "<p>147873 rows × 2 columns</p>\n",
       "</div>"
      ],
      "text/plain": [
       "                    name       salary\n",
       "0       Customer Service   $40,000.00\n",
       "1       Customer Service   $40,001.00\n",
       "2       Customer Service   $40,003.00\n",
       "3       Customer Service   $40,006.00\n",
       "4       Customer Service   $40,010.00\n",
       "...                  ...          ...\n",
       "147868             Sales  $125,469.00\n",
       "147869             Sales  $126,703.00\n",
       "147870             Sales  $127,041.00\n",
       "147871             Sales  $127,238.00\n",
       "147872             Sales  $129,492.00\n",
       "\n",
       "[147873 rows x 2 columns]"
      ]
     },
     "execution_count": 50,
     "metadata": {},
     "output_type": "execute_result"
    }
   ],
   "source": [
    "# put data into a dataframe\n",
    "df = pd.DataFrame(dat)\n",
    "df"
   ]
  },
  {
   "cell_type": "code",
   "execution_count": 51,
   "metadata": {},
   "outputs": [
    {
     "data": {
      "text/plain": [
       "name       object\n",
       "salary    float64\n",
       "dtype: object"
      ]
     },
     "execution_count": 51,
     "metadata": {},
     "output_type": "execute_result"
    }
   ],
   "source": [
    "# Need to remove the $ and , so that we can conver to a float and make it easier to graph\n",
    "\n",
    "df['salary']=df['salary'].replace('[\\$,]', '', regex=True).astype(float)\n",
    "\n",
    "df.dtypes"
   ]
  },
  {
   "cell_type": "code",
   "execution_count": 52,
   "metadata": {},
   "outputs": [
    {
     "data": {
      "text/plain": [
       "name\n",
       "Customer Service      57353.099198\n",
       "Development           56580.793077\n",
       "Finance               62614.431365\n",
       "Human Resources       52187.073576\n",
       "Marketing             63881.193240\n",
       "Production            56293.398596\n",
       "Quality Management    52942.706420\n",
       "Research              54858.940997\n",
       "Sales                 71038.494185\n",
       "Name: salary, dtype: float64"
      ]
     },
     "execution_count": 52,
     "metadata": {},
     "output_type": "execute_result"
    }
   ],
   "source": [
    "# Get the salaries per department\n",
    "df_sal = df.groupby('name')\n",
    "df_sal['salary'].mean()"
   ]
  },
  {
   "cell_type": "code",
   "execution_count": 53,
   "metadata": {},
   "outputs": [
    {
     "data": {
      "text/plain": [
       "<function matplotlib.pyplot.show(close=None, block=None)>"
      ]
     },
     "execution_count": 53,
     "metadata": {},
     "output_type": "execute_result"
    },
    {
     "data": {
      "image/png": "[encoded data removed]",
      "text/plain": [
       "<Figure size 720x576 with 1 Axes>"
      ]
     },
     "metadata": {
      "needs_background": "light"
     },
     "output_type": "display_data"
    }
   ],
   "source": [
    "# Set the figure size and the rotation of the ticks on the x axis\n",
    "fig= plt.figure(figsize=(10,8))\n",
    "plt.xticks(rotation=45 )\n",
    "\n",
    "# x axis is the list of departments\n",
    "x_axis = df['name'].unique()\n",
    "\n",
    "# get the mean of the salaries\n",
    "y_axis = df_sal['salary'].mean()\n",
    "\n",
    "# Label the graph properly\n",
    "plt.title(\"Graph of average Salaries per Department\")\n",
    "plt.xlabel(\"Departments\")\n",
    "plt.ylabel(\"Average Salary\")\n",
    "\n",
    "# Plot the bar graph\n",
    "plt.bar(x_axis, y_axis, facecolor=\"blue\", alpha=0.75, align=\"center\")\n",
    "\n",
    "plt.show"
   ]
  },
  {
   "cell_type": "code",
   "execution_count": null,
   "metadata": {},
   "outputs": [],
   "source": []
  }
 ],
 "metadata": {
  "kernelspec": {
   "display_name": "Python [conda env:PythonData] *",
   "language": "python",
   "name": "conda-env-PythonData-py"
  },
  "language_info": {
   "codemirror_mode": {
    "name": "ipython",
    "version": 3
   },
   "file_extension": ".py",
   "mimetype": "text/x-python",
   "name": "python",
   "nbconvert_exporter": "python",
   "pygments_lexer": "ipython3",
   "version": "3.6.10"
  }
 },
 "nbformat": 4,
 "nbformat_minor": 4
}
